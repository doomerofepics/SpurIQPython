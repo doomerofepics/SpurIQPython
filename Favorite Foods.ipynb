{
 "cells": [
  {
   "cell_type": "code",
   "execution_count": 3,
   "metadata": {},
   "outputs": [
    {
     "name": "stdout",
     "output_type": "stream",
     "text": [
      "['pizza', 'ice cream', 'dosa']\n",
      "('pizza', 'ice cream', 'dosa')\n",
      "{'food1': 'pizza', 'food2': 'ice cream', 'food3': 'dosa'}\n",
      "{'dosa', 'ice cream', 'pizza'}\n"
     ]
    }
   ],
   "source": [
    "favoritefoods = [\"pizza\", \"ice cream\", \"dosa\"]\n",
    "favoritefoods1 = (\"pizza\", \"ice cream\", \"dosa\")\n",
    "favoritefoods2 = {\n",
    "    \"food1\": \"pizza\",\n",
    "    \"food2\": \"ice cream\",\n",
    "    \"food3\": \"dosa\"\n",
    "}\n",
    "favoritefoods3 = {\"pizza\", \"ice cream\", \"dosa\"}\n",
    "print(favoritefoods)\n",
    "print(favoritefoods1)\n",
    "print(favoritefoods2)\n",
    "print(favoritefoods3)"
   ]
  },
  {
   "cell_type": "code",
   "execution_count": 7,
   "metadata": {},
   "outputs": [
    {
     "name": "stdout",
     "output_type": "stream",
     "text": [
      "pizza\n",
      "ice cream\n",
      "dosa\n",
      "pizza\n",
      "ice cream\n",
      "dosa\n",
      "pizza\n",
      "ice cream\n",
      "dosa\n"
     ]
    },
    {
     "ename": "TypeError",
     "evalue": "'set' object is not subscriptable",
     "output_type": "error",
     "traceback": [
      "\u001b[0;31m---------------------------------------------------------------------------\u001b[0m",
      "\u001b[0;31mTypeError\u001b[0m                                 Traceback (most recent call last)",
      "\u001b[0;32m<ipython-input-7-081066ee57d9>\u001b[0m in \u001b[0;36m<module>\u001b[0;34m\u001b[0m\n\u001b[1;32m     16\u001b[0m \u001b[0mprint\u001b[0m\u001b[0;34m(\u001b[0m\u001b[0mfavoritefoods2\u001b[0m\u001b[0;34m[\u001b[0m\u001b[0;34m\"food2\"\u001b[0m\u001b[0;34m]\u001b[0m\u001b[0;34m)\u001b[0m\u001b[0;34m\u001b[0m\u001b[0;34m\u001b[0m\u001b[0m\n\u001b[1;32m     17\u001b[0m \u001b[0mprint\u001b[0m\u001b[0;34m(\u001b[0m\u001b[0mfavoritefoods2\u001b[0m\u001b[0;34m[\u001b[0m\u001b[0;34m\"food3\"\u001b[0m\u001b[0;34m]\u001b[0m\u001b[0;34m)\u001b[0m\u001b[0;34m\u001b[0m\u001b[0;34m\u001b[0m\u001b[0m\n\u001b[0;32m---> 18\u001b[0;31m \u001b[0mprint\u001b[0m\u001b[0;34m(\u001b[0m\u001b[0mfavoritefoods3\u001b[0m\u001b[0;34m[\u001b[0m\u001b[0;36m1\u001b[0m\u001b[0;34m]\u001b[0m\u001b[0;34m)\u001b[0m\u001b[0;34m\u001b[0m\u001b[0;34m\u001b[0m\u001b[0m\n\u001b[0m\u001b[1;32m     19\u001b[0m \u001b[0mprint\u001b[0m\u001b[0;34m(\u001b[0m\u001b[0mfavoritefoods3\u001b[0m\u001b[0;34m[\u001b[0m\u001b[0;36m2\u001b[0m\u001b[0;34m]\u001b[0m\u001b[0;34m)\u001b[0m\u001b[0;34m\u001b[0m\u001b[0;34m\u001b[0m\u001b[0m\n\u001b[1;32m     20\u001b[0m \u001b[0mprint\u001b[0m\u001b[0;34m(\u001b[0m\u001b[0mfavoritefoods3\u001b[0m\u001b[0;34m[\u001b[0m\u001b[0;36m3\u001b[0m\u001b[0;34m]\u001b[0m\u001b[0;34m)\u001b[0m\u001b[0;34m\u001b[0m\u001b[0;34m\u001b[0m\u001b[0m\n",
      "\u001b[0;31mTypeError\u001b[0m: 'set' object is not subscriptable"
     ]
    }
   ],
   "source": [
    "favoritefoods = [\"\", \"pizza\", \"ice cream\", \"dosa\"]\n",
    "favoritefoods1 = (\"\", \"pizza\", \"ice cream\", \"dosa\")\n",
    "favoritefoods2 = {\n",
    "    \"food1\": \"pizza\",\n",
    "    \"food2\": \"ice cream\",\n",
    "    \"food3\": \"dosa\"\n",
    "}\n",
    "favoritefoods3 = {\"\", \"pizza\", \"ice cream\", \"dosa\"}\n",
    "print(favoritefoods[1])\n",
    "print(favoritefoods[2])\n",
    "print(favoritefoods[3])\n",
    "print(favoritefoods1[1])\n",
    "print(favoritefoods1[2])\n",
    "print(favoritefoods1[3])\n",
    "print(favoritefoods2[\"food1\"])\n",
    "print(favoritefoods2[\"food2\"])\n",
    "print(favoritefoods2[\"food3\"])\n",
    "print(favoritefoods3[1])\n",
    "print(favoritefoods3[2])\n",
    "print(favoritefoods3[3])"
   ]
  },
  {
   "cell_type": "code",
   "execution_count": 16,
   "metadata": {},
   "outputs": [
    {
     "name": "stdout",
     "output_type": "stream",
     "text": [
      "pizza\n",
      "ice cream\n",
      "dosa\n",
      "pizza\n",
      "ice cream\n",
      "dosa\n"
     ]
    },
    {
     "ename": "TypeError",
     "evalue": "'str' object does not support item assignment",
     "output_type": "error",
     "traceback": [
      "\u001b[0;31m---------------------------------------------------------------------------\u001b[0m",
      "\u001b[0;31mTypeError\u001b[0m                                 Traceback (most recent call last)",
      "\u001b[0;32m<ipython-input-16-8da2384b8301>\u001b[0m in \u001b[0;36m<module>\u001b[0;34m\u001b[0m\n\u001b[1;32m     18\u001b[0m \u001b[0;32mfor\u001b[0m \u001b[0mfood\u001b[0m \u001b[0;32min\u001b[0m \u001b[0mfavoritefoods2\u001b[0m\u001b[0;34m:\u001b[0m\u001b[0;34m\u001b[0m\u001b[0;34m\u001b[0m\u001b[0m\n\u001b[1;32m     19\u001b[0m     \u001b[0mvariable\u001b[0m \u001b[0;34m=\u001b[0m \u001b[0;34m\"food\"\u001b[0m\u001b[0;34m\u001b[0m\u001b[0;34m\u001b[0m\u001b[0m\n\u001b[0;32m---> 20\u001b[0;31m     \u001b[0mfood\u001b[0m\u001b[0;34m[\u001b[0m\u001b[0;36m4\u001b[0m\u001b[0;34m]\u001b[0m \u001b[0;34m=\u001b[0m \u001b[0mx\u001b[0m\u001b[0;34m\u001b[0m\u001b[0;34m\u001b[0m\u001b[0m\n\u001b[0m\u001b[1;32m     21\u001b[0m     \u001b[0mprint\u001b[0m\u001b[0;34m(\u001b[0m\u001b[0mfavoritefoods2\u001b[0m\u001b[0;34m[\u001b[0m\u001b[0;34m\"food\"\u001b[0m \u001b[0;34m+\u001b[0m \u001b[0mx\u001b[0m\u001b[0;34m]\u001b[0m\u001b[0;34m)\u001b[0m\u001b[0;34m\u001b[0m\u001b[0;34m\u001b[0m\u001b[0m\n\u001b[1;32m     22\u001b[0m     \u001b[0mx\u001b[0m \u001b[0;34m+=\u001b[0m \u001b[0;36m1\u001b[0m\u001b[0;34m\u001b[0m\u001b[0;34m\u001b[0m\u001b[0m\n",
      "\u001b[0;31mTypeError\u001b[0m: 'str' object does not support item assignment"
     ]
    }
   ],
   "source": [
    "favoritefoods = [\"pizza\", \"ice cream\", \"dosa\"]\n",
    "favoritefoods1 = (\"pizza\", \"ice cream\", \"dosa\")\n",
    "favoritefoods2 = {\n",
    "    \"food1\": \"pizza\",\n",
    "    \"food2\": \"ice cream\",\n",
    "    \"food3\": \"dosa\"\n",
    "}\n",
    "favoritefoods3 = {\"pizza\", \"ice cream\", \"dosa\"}\n",
    "x = 0\n",
    "while (x < 3):\n",
    "    print(favoritefoods[x])\n",
    "    x += 1\n",
    "x = 0\n",
    "while (x < 3):\n",
    "    print(favoritefoods1[x])\n",
    "    x += 1\n",
    "x = 1\n",
    "for food in favoritefoods2:\n",
    "    variable = \"food\"\n",
    "    print(favoritefoods2[\"food\" + x])\n",
    "    x += 1"
   ]
  }
 ],
 "metadata": {
  "kernelspec": {
   "display_name": "Python 3",
   "language": "python",
   "name": "python3"
  },
  "language_info": {
   "codemirror_mode": {
    "name": "ipython",
    "version": 3
   },
   "file_extension": ".py",
   "mimetype": "text/x-python",
   "name": "python",
   "nbconvert_exporter": "python",
   "pygments_lexer": "ipython3",
   "version": "3.7.3"
  }
 },
 "nbformat": 4,
 "nbformat_minor": 2
}
