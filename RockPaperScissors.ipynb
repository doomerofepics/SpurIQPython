{
 "cells": [
  {
   "cell_type": "code",
   "execution_count": 9,
   "metadata": {},
   "outputs": [
    {
     "name": "stdout",
     "output_type": "stream",
     "text": [
      "Your move: r\n",
      "You:  r\n",
      "Me:  p\n",
      "You lose sucker😎\n"
     ]
    }
   ],
   "source": [
    "import random\n",
    "\n",
    "moves = [\"r\", \"p\", \"s\"]\n",
    "player_wins = [\"pr\", \"sp\", \"rs\"]\n",
    "while True:\n",
    "    player_move = input(\"Your move: \")\n",
    "    if player_move == q:\n",
    "        break\n",
    "    computer_move = random.choice(moves)\n",
    "\n",
    "    print(\"You: \" , player_move)\n",
    "    print(\"Me: \", computer_move)\n",
    "\n",
    "    if player_move == computer_move:\n",
    "        print(\"Tie\")\n",
    "    elif player_move + computer_move in player_wins:\n",
    "        print(\"You win!🥳🥳\")\n",
    "    else:\n",
    "        print(\"You lose sucker😎\")"
   ]
  }
 ],
 "metadata": {
  "kernelspec": {
   "display_name": "Python 3",
   "language": "python",
   "name": "python3"
  },
  "language_info": {
   "codemirror_mode": {
    "name": "ipython",
    "version": 3
   },
   "file_extension": ".py",
   "mimetype": "text/x-python",
   "name": "python",
   "nbconvert_exporter": "python",
   "pygments_lexer": "ipython3",
   "version": "3.7.3"
  }
 },
 "nbformat": 4,
 "nbformat_minor": 2
}
